{
 "cells": [
  {
   "cell_type": "code",
   "execution_count": 52,
   "id": "2162342e-0641-4c3e-aeba-302fea4c124a",
   "metadata": {},
   "outputs": [
    {
     "name": "stderr",
     "output_type": "stream",
     "text": [
      "[nltk_data] Downloading package punkt to\n",
      "[nltk_data]     /home/UG/kanupriy001/nltk_data...\n",
      "[nltk_data]   Package punkt is already up-to-date!\n",
      "[nltk_data] Downloading package wordnet to\n",
      "[nltk_data]     /home/UG/kanupriy001/nltk_data...\n",
      "[nltk_data]   Package wordnet is already up-to-date!\n",
      "[nltk_data] Downloading package stopwords to\n",
      "[nltk_data]     /home/UG/kanupriy001/nltk_data...\n",
      "[nltk_data]   Package stopwords is already up-to-date!\n"
     ]
    }
   ],
   "source": [
    "# Standard library imports\n",
    "import datetime\n",
    "import os\n",
    "import re\n",
    "import sys\n",
    "import time\n",
    "\n",
    "# Third-party library imports for data handling and processing\n",
    "import emoji\n",
    "import numpy as np\n",
    "import pandas as pd\n",
    "import matplotlib.pyplot as plt\n",
    "from sklearn.model_selection import train_test_split\n",
    "from sklearn.preprocessing import LabelEncoder\n",
    "\n",
    "# NLTK for natural language processing tasks\n",
    "import nltk\n",
    "from nltk.corpus import stopwords \n",
    "from nltk.tokenize import word_tokenize\n",
    "nltk.download('punkt')  # Tokenizer for word segmentation\n",
    "nltk.download('wordnet')  # Lexical database for the English language\n",
    "nltk.download('stopwords')  # Stopwords to filter out in preprocessing\n",
    "\n",
    "# TensorFlow and Keras for building and training the neural network model\n",
    "import tensorflow as tf\n",
    "from tensorflow.keras.layers import Bidirectional, LSTM\n",
    "\n",
    "from keras.models import Sequential, load_model, save_model, Model\n",
    "from keras.layers import (Dense, Dropout, Activation, Embedding, Flatten,\n",
    "                          LSTM, Bidirectional, SpatialDropout1D, Conv1D, MaxPooling1D)\n",
    "from keras.preprocessing.text import text_to_word_sequence, Tokenizer\n",
    "from keras.preprocessing.sequence import pad_sequences\n",
    "from keras.callbacks import ModelCheckpoint\n",
    "from tensorflow.keras.callbacks import EarlyStopping\n",
    "import keras\n",
    "from keras.models import Model\n",
    "from keras.optimizers import Adam\n",
    "from keras.layers import Attention, Add\n",
    "from keras.optimizers import Adam\n",
    "\n",
    "# Matplotlib for plotting\n",
    "from matplotlib import pyplot\n"
   ]
  },
  {
   "cell_type": "code",
   "execution_count": 53,
   "id": "4396484f-da81-428c-8f77-aaecd96fe53f",
   "metadata": {},
   "outputs": [
    {
     "name": "stderr",
     "output_type": "stream",
     "text": [
      "[nltk_data] Downloading package stopwords to\n",
      "[nltk_data]     /home/UG/kanupriy001/nltk_data...\n",
      "[nltk_data]   Package stopwords is already up-to-date!\n"
     ]
    }
   ],
   "source": [
    "import nltk\n",
    "# Downloading the stopwords collection from NLTK to filter out in our text processing\n",
    "nltk.download('stopwords')\n",
    "\n",
    "# Setting the maximum number of words in each sequence for our model\n",
    "MAX_SEQUENCE_LENGTH = 20\n",
    "# Defining the size of the embedding vectors\n",
    "EMBEDDING_DIM = 50\n",
    "\n",
    "# Importing the stopwords from NLTK to remove common words that usually don't carry much meaning\n",
    "from nltk.corpus import stopwords\n",
    "stop_words = set(stopwords.words('english')) \n",
    "# Creating a new set of stop words if we need to add more words to the default NLTK list\n",
    "new_stop_words = set(stop_words)\n",
    "\n",
    "import pandas as pd\n",
    "\n",
    "# Reading the preprocessed data from a CSV file into a DataFrame\n",
    "dataFrame = pd.read_csv('Preprocessed Data.csv', encoding='utf-8')\n",
    "\n",
    "# Extracting the text column (assuming it's the fourth column) as our input data (features)\n",
    "x = dataFrame.values[:, 3]\n",
    "# Extracting the target/output column (assuming it's the second column) for our labels\n",
    "y = dataFrame.values[:, 1]\n"
   ]
  },
  {
   "cell_type": "code",
   "execution_count": 54,
   "id": "aaf56280-9212-44a9-8437-83b3bde27ab3",
   "metadata": {},
   "outputs": [
    {
     "data": {
      "text/plain": [
       "(array(['anger', 'anger', 'anger', ..., 'love', 'joy', 'love'],\n",
       "       dtype=object),\n",
       " array([0, 1, 2, ..., 43957, 43958, 43959], dtype=object))"
      ]
     },
     "execution_count": 54,
     "metadata": {},
     "output_type": "execute_result"
    }
   ],
   "source": [
    "x,y"
   ]
  },
  {
   "cell_type": "code",
   "execution_count": 55,
   "id": "314a033b-52ac-457c-9185-87c182a4bcb9",
   "metadata": {},
   "outputs": [
    {
     "data": {
      "text/html": [
       "<div>\n",
       "<style scoped>\n",
       "    .dataframe tbody tr th:only-of-type {\n",
       "        vertical-align: middle;\n",
       "    }\n",
       "\n",
       "    .dataframe tbody tr th {\n",
       "        vertical-align: top;\n",
       "    }\n",
       "\n",
       "    .dataframe thead th {\n",
       "        text-align: right;\n",
       "    }\n",
       "</style>\n",
       "<table border=\"1\" class=\"dataframe\">\n",
       "  <thead>\n",
       "    <tr style=\"text-align: right;\">\n",
       "      <th></th>\n",
       "      <th>Unnamed: 0</th>\n",
       "      <th>index</th>\n",
       "      <th>tweet</th>\n",
       "      <th>tweettype</th>\n",
       "      <th>tweettype2</th>\n",
       "      <th>charCount</th>\n",
       "      <th>wordCount</th>\n",
       "      <th>sentenceCount</th>\n",
       "      <th>capCharCount</th>\n",
       "      <th>capWordCount</th>\n",
       "      <th>...</th>\n",
       "      <th>\\ count</th>\n",
       "      <th>] count</th>\n",
       "      <th>^ count</th>\n",
       "      <th>_ count</th>\n",
       "      <th>` count</th>\n",
       "      <th>{ count</th>\n",
       "      <th>| count</th>\n",
       "      <th>} count</th>\n",
       "      <th>~ count</th>\n",
       "      <th>lemmatizedText</th>\n",
       "    </tr>\n",
       "  </thead>\n",
       "  <tbody>\n",
       "    <tr>\n",
       "      <th>0</th>\n",
       "      <td>0</td>\n",
       "      <td>0</td>\n",
       "      <td>@ZubairSabirPTI  pls dont insult the word 'Molna'</td>\n",
       "      <td>anger</td>\n",
       "      <td>negative</td>\n",
       "      <td>49</td>\n",
       "      <td>7</td>\n",
       "      <td>1</td>\n",
       "      <td>6</td>\n",
       "      <td>0</td>\n",
       "      <td>...</td>\n",
       "      <td>0.0</td>\n",
       "      <td>0.0</td>\n",
       "      <td>0.0</td>\n",
       "      <td>0.0</td>\n",
       "      <td>0.0</td>\n",
       "      <td>0.0</td>\n",
       "      <td>0.0</td>\n",
       "      <td>0.0</td>\n",
       "      <td>0.0</td>\n",
       "      <td>pls dont insult word</td>\n",
       "    </tr>\n",
       "    <tr>\n",
       "      <th>1</th>\n",
       "      <td>1</td>\n",
       "      <td>1</td>\n",
       "      <td>@ArcticFantasy I would have almost took offens...</td>\n",
       "      <td>anger</td>\n",
       "      <td>negative</td>\n",
       "      <td>81</td>\n",
       "      <td>14</td>\n",
       "      <td>1</td>\n",
       "      <td>4</td>\n",
       "      <td>2</td>\n",
       "      <td>...</td>\n",
       "      <td>0.0</td>\n",
       "      <td>0.0</td>\n",
       "      <td>0.0</td>\n",
       "      <td>0.0</td>\n",
       "      <td>0.0</td>\n",
       "      <td>0.0</td>\n",
       "      <td>0.0</td>\n",
       "      <td>0.0</td>\n",
       "      <td>0.0</td>\n",
       "      <td>would almost take offense actually snap</td>\n",
       "    </tr>\n",
       "    <tr>\n",
       "      <th>2</th>\n",
       "      <td>2</td>\n",
       "      <td>2</td>\n",
       "      <td>@IllinoisLoyalty that Rutgers game was an abom...</td>\n",
       "      <td>anger</td>\n",
       "      <td>negative</td>\n",
       "      <td>114</td>\n",
       "      <td>20</td>\n",
       "      <td>3</td>\n",
       "      <td>6</td>\n",
       "      <td>0</td>\n",
       "      <td>...</td>\n",
       "      <td>0.0</td>\n",
       "      <td>0.0</td>\n",
       "      <td>0.0</td>\n",
       "      <td>0.0</td>\n",
       "      <td>0.0</td>\n",
       "      <td>0.0</td>\n",
       "      <td>0.0</td>\n",
       "      <td>0.0</td>\n",
       "      <td>0.0</td>\n",
       "      <td>rutgers game abomination affront god man must ...</td>\n",
       "    </tr>\n",
       "    <tr>\n",
       "      <th>3</th>\n",
       "      <td>3</td>\n",
       "      <td>3</td>\n",
       "      <td>@CozanGaming that's what lisa asked before she...</td>\n",
       "      <td>anger</td>\n",
       "      <td>negative</td>\n",
       "      <td>90</td>\n",
       "      <td>16</td>\n",
       "      <td>2</td>\n",
       "      <td>3</td>\n",
       "      <td>1</td>\n",
       "      <td>...</td>\n",
       "      <td>0.0</td>\n",
       "      <td>0.0</td>\n",
       "      <td>0.0</td>\n",
       "      <td>0.0</td>\n",
       "      <td>0.0</td>\n",
       "      <td>0.0</td>\n",
       "      <td>0.0</td>\n",
       "      <td>0.0</td>\n",
       "      <td>0.0</td>\n",
       "      <td>lisa ask start rag call heh</td>\n",
       "    </tr>\n",
       "    <tr>\n",
       "      <th>4</th>\n",
       "      <td>4</td>\n",
       "      <td>4</td>\n",
       "      <td>Sometimes I get mad over something so minuscul...</td>\n",
       "      <td>anger</td>\n",
       "      <td>negative</td>\n",
       "      <td>133</td>\n",
       "      <td>25</td>\n",
       "      <td>1</td>\n",
       "      <td>3</td>\n",
       "      <td>2</td>\n",
       "      <td>...</td>\n",
       "      <td>0.0</td>\n",
       "      <td>0.0</td>\n",
       "      <td>0.0</td>\n",
       "      <td>0.0</td>\n",
       "      <td>0.0</td>\n",
       "      <td>0.0</td>\n",
       "      <td>0.0</td>\n",
       "      <td>0.0</td>\n",
       "      <td>0.0</td>\n",
       "      <td>sometimes get mad something minuscule try ruin...</td>\n",
       "    </tr>\n",
       "  </tbody>\n",
       "</table>\n",
       "<p>5 rows × 50 columns</p>\n",
       "</div>"
      ],
      "text/plain": [
       "   Unnamed: 0  index                                              tweet  \\\n",
       "0           0      0  @ZubairSabirPTI  pls dont insult the word 'Molna'   \n",
       "1           1      1  @ArcticFantasy I would have almost took offens...   \n",
       "2           2      2  @IllinoisLoyalty that Rutgers game was an abom...   \n",
       "3           3      3  @CozanGaming that's what lisa asked before she...   \n",
       "4           4      4  Sometimes I get mad over something so minuscul...   \n",
       "\n",
       "  tweettype tweettype2  charCount  wordCount  sentenceCount  capCharCount  \\\n",
       "0     anger   negative         49          7              1             6   \n",
       "1     anger   negative         81         14              1             4   \n",
       "2     anger   negative        114         20              3             6   \n",
       "3     anger   negative         90         16              2             3   \n",
       "4     anger   negative        133         25              1             3   \n",
       "\n",
       "   capWordCount  ...  \\ count  ] count  ^ count  _ count  ` count  { count  \\\n",
       "0             0  ...      0.0      0.0      0.0      0.0      0.0      0.0   \n",
       "1             2  ...      0.0      0.0      0.0      0.0      0.0      0.0   \n",
       "2             0  ...      0.0      0.0      0.0      0.0      0.0      0.0   \n",
       "3             1  ...      0.0      0.0      0.0      0.0      0.0      0.0   \n",
       "4             2  ...      0.0      0.0      0.0      0.0      0.0      0.0   \n",
       "\n",
       "  | count  } count  ~ count                                     lemmatizedText  \n",
       "0     0.0      0.0      0.0                               pls dont insult word  \n",
       "1     0.0      0.0      0.0            would almost take offense actually snap  \n",
       "2     0.0      0.0      0.0  rutgers game abomination affront god man must ...  \n",
       "3     0.0      0.0      0.0                        lisa ask start rag call heh  \n",
       "4     0.0      0.0      0.0  sometimes get mad something minuscule try ruin...  \n",
       "\n",
       "[5 rows x 50 columns]"
      ]
     },
     "execution_count": 55,
     "metadata": {},
     "output_type": "execute_result"
    }
   ],
   "source": [
    "dataFrame.head()"
   ]
  },
  {
   "cell_type": "code",
   "execution_count": 56,
   "id": "3f7b8a1c-2a2c-4b2c-a126-71bf282cee74",
   "metadata": {},
   "outputs": [
    {
     "data": {
      "text/plain": [
       "Index(['Unnamed: 0', 'index', 'tweet', 'tweettype', 'tweettype2', 'charCount',\n",
       "       'wordCount', 'sentenceCount', 'capCharCount', 'capWordCount',\n",
       "       'quotedWordCount', 'stopwordCount', 'uniqueWordCount', 'hashCount',\n",
       "       'mentionCount', 'avgWordLen', 'modTweet', '! count', '\" count',\n",
       "       '# count', '$ count', '% count', '& count', '' count', '( count',\n",
       "       ') count', '* count', '+ count', ', count', '- count', '. count',\n",
       "       '/ count', ': count', '; count', '< count', '= count', '> count',\n",
       "       '? count', '@ count', '[ count', '\\ count', '] count', '^ count',\n",
       "       '_ count', '` count', '{ count', '| count', '} count', '~ count',\n",
       "       'lemmatizedText'],\n",
       "      dtype='object')"
      ]
     },
     "execution_count": 56,
     "metadata": {},
     "output_type": "execute_result"
    }
   ],
   "source": [
    "dataFrame.columns"
   ]
  },
  {
   "cell_type": "code",
   "execution_count": 57,
   "id": "69f9ce73-9aab-469c-8fe7-c4fa75af303f",
   "metadata": {},
   "outputs": [],
   "source": [
    "x_data=list(dataFrame['lemmatizedText'])\n",
    "y_data=list(dataFrame['tweettype'])"
   ]
  },
  {
   "cell_type": "code",
   "execution_count": 58,
   "id": "070da87e-c214-4713-a00e-593bb26c9f80",
   "metadata": {},
   "outputs": [
    {
     "data": {
      "text/plain": [
       "(['pls dont insult word',\n",
       "  'would almost take offense actually snap',\n",
       "  'rutgers game abomination affront god man must never speak',\n",
       "  'lisa ask start rag call heh',\n",
       "  'sometimes get mad something minuscule try ruin somebody life like lose job like get federal prison',\n",
       "  'sometimes get mad something minuscule try ruin somebody life like lose job like get federal prison anger',\n",
       "  'think canaday amp must actually work like amp brady havent get snap chat video today',\n",
       "  'eye dilate hate world right rage thousand fiery dragon need drink',\n",
       "  'one choose clp member mp seat people dole mate elect candidate fume',\n",
       "  'one choose clp member mp seat people dole mate elect candidate'],\n",
       " ['anger',\n",
       "  'anger',\n",
       "  'anger',\n",
       "  'anger',\n",
       "  'anger',\n",
       "  'anger',\n",
       "  'anger',\n",
       "  'anger',\n",
       "  'anger',\n",
       "  'anger'])"
      ]
     },
     "execution_count": 58,
     "metadata": {},
     "output_type": "execute_result"
    }
   ],
   "source": [
    "x_data[:10],y_data[:10]"
   ]
  },
  {
   "cell_type": "markdown",
   "id": "65d9ae59-8d25-45e6-bed2-589d516a7916",
   "metadata": {},
   "source": [
    "#### Preprocessing Pipeline\n",
    "The provided code is a preprocessing pipeline for an emotion recognition task from text data. It starts by encoding emotion labels into numerical classes and one-hot encoding them for model training. It then cleans the tweets by lowercasing, removing URLs, stock symbols, usernames, and non-letter characters. After that, it lemmatizes the text, stripping words down to their base forms while also removing stopwords. The processed text is tokenized into sequences, which are then padded to a uniform length to prepare for input into a machine learning model. Finally, the data is split into training and test sets, ready for the next steps in building an emotion classification model."
   ]
  },
  {
   "cell_type": "code",
   "execution_count": 59,
   "id": "70793f1f-dc1b-458e-bb84-687f574cd869",
   "metadata": {},
   "outputs": [],
   "source": [
    "import tensorflow as tf\n",
    "import re\n",
    "# Added in to avoid formatting error\n",
    "labels = np.array(dataFrame['tweettype'])\n",
    "y = []\n",
    "for i in range(len(labels)):\n",
    "    if labels[i] == 'sadness':\n",
    "        y.append(0)\n",
    "    elif labels[i] == 'neutral':\n",
    "        y.append(1)\n",
    "    elif labels[i] == 'joy':\n",
    "        y.append(2)\n",
    "    elif labels[i] == 'love':\n",
    "        y.append(3)\n",
    "    elif labels[i] == 'enthusiasm':\n",
    "        y.append(4)\n",
    "    elif labels[i] == 'anger':\n",
    "        y.append(5)\n",
    "    elif labels[i] == 'surprise':\n",
    "        y.append(6)\n",
    "    elif labels[i] == 'relief':\n",
    "        y.append(7)\n",
    "    elif labels[i] == 'fear':\n",
    "        y.append(8)\n",
    "y = np.array(y)\n",
    "labels = tf.keras.utils.to_categorical(y, 9, dtype=\"float32\")\n",
    "del y\n",
    "\n",
    "\n",
    "def featureEngineering(tweet):\n",
    "    # Lower case tweet\n",
    "    tweetMod = tweet.lower()\n",
    "    # Replace URLs with a space in the message\n",
    "    tweetMod = re.sub('https?:\\/\\/[a-zA-Z0-9@:%._\\/+~#=?&;-]*', ' ', tweetMod)\n",
    "    # Replace ticker symbols with a space. The ticker symbols are any stock symbol that starts with $.\n",
    "    tweetMod = re.sub('\\$[a-zA-Z0-9]*', ' ', tweetMod)\n",
    "    # Replace StockTwits usernames with a space. The usernames are any word that starts with @.\n",
    "    tweetMod = re.sub('\\@[a-zA-Z0-9]*', ' ', tweetMod)\n",
    "    # Replace everything not a letter or apostrophe with a space\n",
    "    tweetMod = re.sub('[^a-zA-Z\\']', ' ', tweetMod)\n",
    "    # Remove single letter words\n",
    "    tweetMod = ' '.join([w for w in tweetMod.split() if len(w) > 1])\n",
    "\n",
    "    return tweetMod\n",
    "\n",
    "tweetData=dataFrame\n",
    "\n",
    "# Process for all tweets\n",
    "tweetData['modTweet'] = [featureEngineering(tweet) for tweet in tweetData['tweet']]\n",
    "\n",
    "def lemmatizeTweet(tweet):\n",
    "  words = [word for word in word_tokenize(tweet) if (word.isalpha()==1)]\n",
    "  # Remove stop words\n",
    "  stop = set(stopwords.words('english'))\n",
    "  words = [word for word in words if (word not in stop)]\n",
    "  # Lemmatize words (first noun, then verb)\n",
    "  wnl = nltk.stem.WordNetLemmatizer()\n",
    "  lemmatized = [wnl.lemmatize(wnl.lemmatize(word, 'n'), 'v') for word in words]\n",
    "  return \" \".join(lemmatized)\n",
    "\n",
    "tweetData['lemmatizedText'] = tweetData[\"modTweet\"].apply(lambda x:lemmatizeTweet(x))\n",
    "\n",
    "tokenizer = Tokenizer(num_words=27608, split=' ')\n",
    "tokenizer.fit_on_texts(tweetData['lemmatizedText'].values)\n",
    "X = tokenizer.texts_to_sequences(tweetData['lemmatizedText'].values)\n",
    "X = pad_sequences(X, padding='post')\n",
    "\n"
   ]
  },
  {
   "cell_type": "code",
   "execution_count": 60,
   "id": "57907623-5dc4-4087-b078-880aeff91ff7",
   "metadata": {},
   "outputs": [
    {
     "data": {
      "text/plain": [
       "array([[ 1487,    93,  1706, ...,     0,     0,     0],\n",
       "       [   44,   242,    45, ...,     0,     0,     0],\n",
       "       [11889,   192,  8085, ...,     0,     0,     0],\n",
       "       ...,\n",
       "       [   16,    27,     3, ...,     0,     0,     0],\n",
       "       [ 2611,   275,    85, ...,     0,     0,     0],\n",
       "       [ 4886,   456,  2760, ...,     0,     0,     0]], dtype=int32)"
      ]
     },
     "execution_count": 60,
     "metadata": {},
     "output_type": "execute_result"
    }
   ],
   "source": [
    "X"
   ]
  },
  {
   "cell_type": "code",
   "execution_count": 61,
   "id": "2dd51c41-f9e8-4ed0-b36e-78106341b3b6",
   "metadata": {},
   "outputs": [],
   "source": [
    "X_train, X_test, Y_train, Y_test = train_test_split(X, labels, test_size=0.2, random_state=42)"
   ]
  },
  {
   "cell_type": "code",
   "execution_count": 62,
   "id": "60343990-b151-441d-afb8-08ca8e9f3512",
   "metadata": {},
   "outputs": [
    {
     "name": "stdout",
     "output_type": "stream",
     "text": [
      "Loading Glove Vectors ...\n",
      "Loaded GloVe Vectors Successfully\n"
     ]
    }
   ],
   "source": [
    "\n",
    "#Loading Pre-trained GloVe Word Embeddings\n",
    "#These word embeddings will provide a dense representation of words with semantic meanings, which can significantly improve the performance of machine learning models on NLP tasks.\n",
    "print(\"Loading Glove Vectors ...\")\n",
    "embeddings_index = {}\n",
    "word_index = tokenizer.word_index\n",
    "len(word_index)\n",
    "f = open(os.path.join('', 'glove.6B.50d.txt'),'r',encoding=\"utf-8\")\n",
    "for line in f:\n",
    "    values = line.split()\n",
    "    word = values[0]\n",
    "    coefs = np.asarray(values[1:], dtype='float32')\n",
    "    embeddings_index[word] = coefs\n",
    "f.close()\n",
    "\n",
    "print('Loaded GloVe Vectors Successfully')\n"
   ]
  },
  {
   "cell_type": "code",
   "execution_count": 63,
   "id": "a3ad9af6-e81a-4af6-8f73-a3cd10ba3de4",
   "metadata": {},
   "outputs": [
    {
     "name": "stdout",
     "output_type": "stream",
     "text": [
      "Embedding Matrix Generated :  (27614, 50)\n"
     ]
    }
   ],
   "source": [
    "#Creating the Embedding Matrix and Layer for the Model\n",
    "\n",
    "embedding_matrix = np.zeros((len(word_index) + 1, EMBEDDING_DIM))\n",
    "for word, i in word_index.items():\n",
    "    embedding_vector = embeddings_index.get(word)\n",
    "    if embedding_vector is not None:\n",
    "        # words not found in embedding index will be all-zeros.\n",
    "        embedding_matrix[i] = embedding_vector\n",
    "\n",
    "print(\"Embedding Matrix Generated : \",embedding_matrix.shape)\n",
    "\n",
    "\n",
    "\n",
    "embedding_layer = Embedding(len(word_index) + 1,EMBEDDING_DIM, weights=[embedding_matrix],input_length=MAX_SEQUENCE_LENGTH,trainable=False)\n",
    "\n",
    "\n"
   ]
  },
  {
   "cell_type": "code",
   "execution_count": 64,
   "id": "d5f881dd-b3c0-4069-9d6e-115dff5bc373",
   "metadata": {},
   "outputs": [
    {
     "name": "stdout",
     "output_type": "stream",
     "text": [
      "Loaded 400000 word vectors.\n"
     ]
    }
   ],
   "source": [
    "#Populating the GloVe Embeddings Dictionary\n",
    "\n",
    "\n",
    "embeddings_index = {}\n",
    "word_index = tokenizer.word_index\n",
    "len(word_index)\n",
    "f = open('glove.6B.50d.txt', 'r', encoding=\"utf-8\")\n",
    "for line in f:\n",
    "    values = line.split()\n",
    "    word = values[0]\n",
    "    coefs = np.asarray(values[1:], dtype='float32')\n",
    "    embeddings_index[word] = coefs\n",
    "f.close()\n",
    "print('Loaded %s word vectors.' % len(embeddings_index))\n"
   ]
  },
  {
   "cell_type": "code",
   "execution_count": 65,
   "id": "aba32f85-17d1-481c-beb3-8aeb9c487647",
   "metadata": {},
   "outputs": [],
   "source": [
    "#Constructing the Embedding Matrix with GloVe Vectors\n",
    "\n",
    "embedding_dim = 50  \n",
    "\n",
    "embedding_matrix = np.zeros((len(word_index) + 1, embedding_dim))\n",
    "\n",
    "for word, i in word_index.items():\n",
    "    embedding_vector = embeddings_index.get(word)\n",
    "    if embedding_vector is not None:\n",
    "        embedding_matrix[i] = embedding_vector\n"
   ]
  },
  {
   "cell_type": "code",
   "execution_count": 66,
   "id": "605eac4c-1f9e-4abf-9714-157f31233860",
   "metadata": {},
   "outputs": [],
   "source": [
    "#Setting Up Early Stopping Callback\n",
    "#This technique helps prevent overfitting by stopping the training when the model performance no longer improves on a held-out validation set.\n",
    "early_stopping = EarlyStopping(monitor='val_loss', patience=3, verbose=1, restore_best_weights=True)\n",
    "callbacks_list = [early_stopping]"
   ]
  },
  {
   "cell_type": "markdown",
   "id": "28753d0c-b82f-427a-a290-74c756bd1595",
   "metadata": {},
   "source": [
    "### Building and Training the Text Classification Model (LSTM + CNN)\n",
    "This model is a hybrid neural network designed for text emotion classification that combines convolutional layers with bidirectional LSTM layers. The convolutional layers extract local patterns within the text, while the bidirectional LSTMs capture long-range dependencies in the data. The model uses pre-trained GloVe word embeddings to understand word semantics and employs attention mechanisms to focus on relevant parts of the text sequence. Dropout layers are included to mitigate overfitting, and the model's output is a probability distribution across different emotion classes, obtained through a softmax activation function. The architecture is designed to leverage both the local features of the text and its sequential nature, making it suitable for text emotion recognition."
   ]
  },
  {
   "cell_type": "code",
   "execution_count": 67,
   "id": "ecdfb246-3eec-42a2-8d5d-7e824302c4c1",
   "metadata": {},
   "outputs": [
    {
     "name": "stderr",
     "output_type": "stream",
     "text": [
      "WARNING:absl:`lr` is deprecated in Keras optimizer, please use `learning_rate` or use the legacy optimizer, e.g.,tf.keras.optimizers.legacy.Adam.\n"
     ]
    },
    {
     "name": "stdout",
     "output_type": "stream",
     "text": [
      "Model: \"model\"\n",
      "__________________________________________________________________________________________________\n",
      " Layer (type)                Output Shape                 Param #   Connected to                  \n",
      "==================================================================================================\n",
      " input_1 (InputLayer)        [(None, 28)]                 0         []                            \n",
      "                                                                                                  \n",
      " embedding (Embedding)       (None, 28, 50)               1380700   ['input_1[0][0]']             \n",
      "                                                                                                  \n",
      " conv1d (Conv1D)             (None, 28, 128)              19328     ['embedding[0][0]']           \n",
      "                                                                                                  \n",
      " conv1d_1 (Conv1D)           (None, 28, 128)              25728     ['embedding[0][0]']           \n",
      "                                                                                                  \n",
      " conv1d_2 (Conv1D)           (None, 28, 128)              32128     ['embedding[0][0]']           \n",
      "                                                                                                  \n",
      " global_max_pooling1d (Glob  (None, 128)                  0         ['conv1d[0][0]']              \n",
      " alMaxPooling1D)                                                                                  \n",
      "                                                                                                  \n",
      " global_max_pooling1d_1 (Gl  (None, 128)                  0         ['conv1d_1[0][0]']            \n",
      " obalMaxPooling1D)                                                                                \n",
      "                                                                                                  \n",
      " global_max_pooling1d_2 (Gl  (None, 128)                  0         ['conv1d_2[0][0]']            \n",
      " obalMaxPooling1D)                                                                                \n",
      "                                                                                                  \n",
      " concatenate (Concatenate)   (None, 384)                  0         ['global_max_pooling1d[0][0]',\n",
      "                                                                     'global_max_pooling1d_1[0][0]\n",
      "                                                                    ',                            \n",
      "                                                                     'global_max_pooling1d_2[0][0]\n",
      "                                                                    ']                            \n",
      "                                                                                                  \n",
      " dropout (Dropout)           (None, 384)                  0         ['concatenate[0][0]']         \n",
      "                                                                                                  \n",
      " reshape (Reshape)           (None, 1, 384)               0         ['dropout[0][0]']             \n",
      "                                                                                                  \n",
      " bidirectional (Bidirection  (None, 1, 512)               1312768   ['reshape[0][0]']             \n",
      " al)                                                                                              \n",
      "                                                                                                  \n",
      " attention (Attention)       (None, 1, 512)               0         ['bidirectional[0][0]',       \n",
      "                                                                     'bidirectional[0][0]']       \n",
      "                                                                                                  \n",
      " add (Add)                   (None, 1, 512)               0         ['bidirectional[0][0]',       \n",
      "                                                                     'attention[0][0]']           \n",
      "                                                                                                  \n",
      " dropout_1 (Dropout)         (None, 1, 512)               0         ['add[0][0]']                 \n",
      "                                                                                                  \n",
      " bidirectional_1 (Bidirecti  (None, 1, 256)               656384    ['dropout_1[0][0]']           \n",
      " onal)                                                                                            \n",
      "                                                                                                  \n",
      " attention_1 (Attention)     (None, 1, 256)               0         ['bidirectional_1[0][0]',     \n",
      "                                                                     'bidirectional_1[0][0]']     \n",
      "                                                                                                  \n",
      " add_1 (Add)                 (None, 1, 256)               0         ['bidirectional_1[0][0]',     \n",
      "                                                                     'attention_1[0][0]']         \n",
      "                                                                                                  \n",
      " dropout_2 (Dropout)         (None, 1, 256)               0         ['add_1[0][0]']               \n",
      "                                                                                                  \n",
      " flatten (Flatten)           (None, 256)                  0         ['dropout_2[0][0]']           \n",
      "                                                                                                  \n",
      " dense (Dense)               (None, 9)                    2313      ['flatten[0][0]']             \n",
      "                                                                                                  \n",
      "==================================================================================================\n",
      "Total params: 3429349 (13.08 MB)\n",
      "Trainable params: 2048649 (7.81 MB)\n",
      "Non-trainable params: 1380700 (5.27 MB)\n",
      "__________________________________________________________________________________________________\n",
      "Epoch 1/50\n"
     ]
    },
    {
     "name": "stderr",
     "output_type": "stream",
     "text": [
      "2023-11-08 13:00:47.531763: W tensorflow/core/grappler/costs/op_level_cost_estimator.cc:693] Error in PredictCost() for the op: op: \"Softmax\" attr { key: \"T\" value { type: DT_FLOAT } } inputs { dtype: DT_FLOAT shape { unknown_rank: true } } device { type: \"CPU\" vendor: \"GenuineIntel\" model: \"101\" frequency: 2600 num_cores: 2 environment { key: \"cpu_instruction_set\" value: \"AVX SSE, SSE2, SSE3, SSSE3, SSE4.1, SSE4.2\" } environment { key: \"eigen\" value: \"3.4.90\" } l1_cache_size: 32768 l2_cache_size: 1048576 l3_cache_size: 25952256 memory_size: 268435456 } outputs { dtype: DT_FLOAT shape { unknown_rank: true } }\n",
      "2023-11-08 13:00:47.532855: W tensorflow/core/grappler/costs/op_level_cost_estimator.cc:693] Error in PredictCost() for the op: op: \"Softmax\" attr { key: \"T\" value { type: DT_FLOAT } } inputs { dtype: DT_FLOAT shape { unknown_rank: true } } device { type: \"CPU\" vendor: \"GenuineIntel\" model: \"101\" frequency: 2600 num_cores: 2 environment { key: \"cpu_instruction_set\" value: \"AVX SSE, SSE2, SSE3, SSSE3, SSE4.1, SSE4.2\" } environment { key: \"eigen\" value: \"3.4.90\" } l1_cache_size: 32768 l2_cache_size: 1048576 l3_cache_size: 25952256 memory_size: 268435456 } outputs { dtype: DT_FLOAT shape { unknown_rank: true } }\n"
     ]
    },
    {
     "name": "stdout",
     "output_type": "stream",
     "text": [
      "69/69 [==============================] - ETA: 0s - loss: 1.8664 - categorical_accuracy: 0.3405"
     ]
    },
    {
     "name": "stderr",
     "output_type": "stream",
     "text": [
      "2023-11-08 13:01:07.080509: W tensorflow/core/grappler/costs/op_level_cost_estimator.cc:693] Error in PredictCost() for the op: op: \"Softmax\" attr { key: \"T\" value { type: DT_FLOAT } } inputs { dtype: DT_FLOAT shape { unknown_rank: true } } device { type: \"CPU\" vendor: \"GenuineIntel\" model: \"101\" frequency: 2600 num_cores: 2 environment { key: \"cpu_instruction_set\" value: \"AVX SSE, SSE2, SSE3, SSSE3, SSE4.1, SSE4.2\" } environment { key: \"eigen\" value: \"3.4.90\" } l1_cache_size: 32768 l2_cache_size: 1048576 l3_cache_size: 25952256 memory_size: 268435456 } outputs { dtype: DT_FLOAT shape { unknown_rank: true } }\n",
      "2023-11-08 13:01:07.081182: W tensorflow/core/grappler/costs/op_level_cost_estimator.cc:693] Error in PredictCost() for the op: op: \"Softmax\" attr { key: \"T\" value { type: DT_FLOAT } } inputs { dtype: DT_FLOAT shape { unknown_rank: true } } device { type: \"CPU\" vendor: \"GenuineIntel\" model: \"101\" frequency: 2600 num_cores: 2 environment { key: \"cpu_instruction_set\" value: \"AVX SSE, SSE2, SSE3, SSSE3, SSE4.1, SSE4.2\" } environment { key: \"eigen\" value: \"3.4.90\" } l1_cache_size: 32768 l2_cache_size: 1048576 l3_cache_size: 25952256 memory_size: 268435456 } outputs { dtype: DT_FLOAT shape { unknown_rank: true } }\n"
     ]
    },
    {
     "name": "stdout",
     "output_type": "stream",
     "text": [
      "69/69 [==============================] - 37s 280ms/step - loss: 1.8664 - categorical_accuracy: 0.3405 - val_loss: 1.7454 - val_categorical_accuracy: 0.3848\n",
      "Epoch 2/50\n",
      "69/69 [==============================] - 22s 315ms/step - loss: 1.7421 - categorical_accuracy: 0.3860 - val_loss: 1.6637 - val_categorical_accuracy: 0.4022\n",
      "Epoch 3/50\n",
      "69/69 [==============================] - 22s 312ms/step - loss: 1.6878 - categorical_accuracy: 0.4058 - val_loss: 1.6343 - val_categorical_accuracy: 0.4161\n",
      "Epoch 4/50\n",
      "69/69 [==============================] - 23s 334ms/step - loss: 1.6497 - categorical_accuracy: 0.4177 - val_loss: 1.6136 - val_categorical_accuracy: 0.4296\n",
      "Epoch 5/50\n",
      "69/69 [==============================] - 18s 254ms/step - loss: 1.6254 - categorical_accuracy: 0.4250 - val_loss: 1.6049 - val_categorical_accuracy: 0.4321\n",
      "Epoch 6/50\n",
      "69/69 [==============================] - 14s 202ms/step - loss: 1.6008 - categorical_accuracy: 0.4345 - val_loss: 1.5939 - val_categorical_accuracy: 0.4360\n",
      "Epoch 7/50\n",
      "69/69 [==============================] - 15s 219ms/step - loss: 1.5824 - categorical_accuracy: 0.4439 - val_loss: 1.5902 - val_categorical_accuracy: 0.4353\n",
      "Epoch 8/50\n",
      "69/69 [==============================] - 14s 202ms/step - loss: 1.5602 - categorical_accuracy: 0.4524 - val_loss: 1.5861 - val_categorical_accuracy: 0.4366\n",
      "Epoch 9/50\n",
      "69/69 [==============================] - 15s 223ms/step - loss: 1.5411 - categorical_accuracy: 0.4592 - val_loss: 1.5866 - val_categorical_accuracy: 0.4422\n",
      "Epoch 10/50\n",
      "69/69 [==============================] - 15s 220ms/step - loss: 1.5218 - categorical_accuracy: 0.4661 - val_loss: 1.5807 - val_categorical_accuracy: 0.4390\n",
      "Epoch 11/50\n",
      "69/69 [==============================] - 23s 338ms/step - loss: 1.5024 - categorical_accuracy: 0.4733 - val_loss: 1.5786 - val_categorical_accuracy: 0.4411\n",
      "Epoch 12/50\n",
      "69/69 [==============================] - 24s 341ms/step - loss: 1.4865 - categorical_accuracy: 0.4801 - val_loss: 1.5888 - val_categorical_accuracy: 0.4390\n",
      "Epoch 13/50\n",
      "69/69 [==============================] - 22s 319ms/step - loss: 1.4702 - categorical_accuracy: 0.4845 - val_loss: 1.5776 - val_categorical_accuracy: 0.4415\n",
      "Epoch 14/50\n",
      "69/69 [==============================] - 22s 320ms/step - loss: 1.4524 - categorical_accuracy: 0.4896 - val_loss: 1.5849 - val_categorical_accuracy: 0.4380\n",
      "Epoch 15/50\n",
      "69/69 [==============================] - 24s 343ms/step - loss: 1.4351 - categorical_accuracy: 0.4963 - val_loss: 1.5882 - val_categorical_accuracy: 0.4379\n",
      "Epoch 16/50\n",
      "69/69 [==============================] - ETA: 0s - loss: 1.4256 - categorical_accuracy: 0.4981Restoring model weights from the end of the best epoch: 13.\n",
      "69/69 [==============================] - 23s 327ms/step - loss: 1.4256 - categorical_accuracy: 0.4981 - val_loss: 1.5869 - val_categorical_accuracy: 0.4368\n",
      "Epoch 16: early stopping\n"
     ]
    }
   ],
   "source": [
    "\n",
    "# Clear any previous session\n",
    "keras.backend.clear_session()\n",
    "\n",
    "# Define the input layer\n",
    "input_text = Input(shape=(X.shape[1],))\n",
    "\n",
    "# Embedding layer\n",
    "x = Embedding(input_dim=len(word_index) + 1,\n",
    "              output_dim=embedding_dim,\n",
    "              weights=[embedding_matrix],\n",
    "              input_length=X.shape[1],\n",
    "              trainable=False)(input_text)\n",
    "\n",
    "# CNN layers for local feature extraction\n",
    "conv_blocks = []\n",
    "filter_sizes = [3, 4, 5]\n",
    "\n",
    "for sz in filter_sizes:\n",
    "    conv = Conv1D(filters=128, kernel_size=sz, activation='relu', padding='same')(x)\n",
    "    conv = GlobalMaxPooling1D()(conv)\n",
    "    conv_blocks.append(conv)\n",
    "\n",
    "# Concatenate the convolutions\n",
    "x = Concatenate()(conv_blocks)\n",
    "\n",
    "# Add a dropout layer\n",
    "x = Dropout(0.5)(x)\n",
    "\n",
    "# Reshape for RNN layers\n",
    "x = Reshape((1, -1))(x)  # This reshape is necessary because RNN expects 3 dimensions (batch_size, timesteps, features)\n",
    "\n",
    "# First LSTM layer\n",
    "x = Bidirectional(LSTM(units=256, return_sequences=True))(x)  # Set return_sequences=True when stacking LSTM layers\n",
    "query_value_attention_seq = Attention()([x, x])\n",
    "x = Add()([x, query_value_attention_seq])\n",
    "# Add a dropout layer\n",
    "x = Dropout(0.5)(x)\n",
    "\n",
    "# Second LSTM layer\n",
    "x = Bidirectional(LSTM(units=128, return_sequences=True))(x)\n",
    "query_value_attention_seq = Attention()([x, x])\n",
    "x = Add()([x, query_value_attention_seq])\n",
    "x = Dropout(0.5)(x)\n",
    "\n",
    "x = Flatten()(x)\n",
    "\n",
    "# Classification layer\n",
    "output = Dense(9, activation='softmax')(x)\n",
    "\n",
    "# Final model assembly\n",
    "model = Model(inputs=input_text, outputs=output)\n",
    "\n",
    "# Define the optimizer\n",
    "optimizer = Adam(lr=0.001)\n",
    "\n",
    "# Compile the model\n",
    "model.compile(loss='categorical_crossentropy', optimizer=optimizer, metrics=['categorical_accuracy'])\n",
    "\n",
    "# Print the model summary\n",
    "model.summary()\n",
    "\n",
    "\n",
    "# Train the model\n",
    "history = model.fit(X_train, Y_train, epochs=50, batch_size=512, validation_data=(X_test, Y_test), callbacks=callbacks_list)\n"
   ]
  },
  {
   "cell_type": "code",
   "execution_count": 68,
   "id": "35df9195-7ffb-4e9a-bcbd-7c07530e9cc4",
   "metadata": {},
   "outputs": [
    {
     "name": "stdout",
     "output_type": "stream",
     "text": [
      "INFO:tensorflow:Assets written to: models/LSTM_CNN/assets\n"
     ]
    },
    {
     "name": "stderr",
     "output_type": "stream",
     "text": [
      "INFO:tensorflow:Assets written to: models/LSTM_CNN/assets\n"
     ]
    }
   ],
   "source": [
    "model.save('models/LSTM_CNN')"
   ]
  },
  {
   "cell_type": "code",
   "execution_count": 69,
   "id": "1dddb702-7047-452b-a4d1-9a3d3410e05a",
   "metadata": {},
   "outputs": [
    {
     "data": {
      "image/png": "[encoded data removed]",
      "text/plain": [
       "<Figure size 1400x500 with 2 Axes>"
      ]
     },
     "metadata": {},
     "output_type": "display_data"
    }
   ],
   "source": [
    "#plotting accuracy & loss\n",
    "plt.figure(figsize=(14, 5)) \n",
    "\n",
    "\n",
    "plt.subplot(1, 2, 1)\n",
    "plt.plot(history.history['categorical_accuracy'], label='Train')\n",
    "plt.plot(history.history['val_categorical_accuracy'], label='Test')\n",
    "plt.title('Model Accuracy')\n",
    "plt.ylabel('Accuracy')\n",
    "plt.xlabel('Epoch')\n",
    "plt.legend(loc='best')\n",
    "\n",
    "\n",
    "plt.subplot(1, 2, 2)\n",
    "plt.plot(history.history['loss'], label='Train')\n",
    "plt.plot(history.history['val_loss'], label='Test')\n",
    "plt.title('Model Loss')\n",
    "plt.ylabel('Cross-Entropy Loss')\n",
    "plt.xlabel('Epoch')\n",
    "plt.legend(loc='best')\n",
    "\n",
    "plt.tight_layout() \n",
    "plt.show()\n",
    "\n"
   ]
  },
  {
   "cell_type": "code",
   "execution_count": 71,
   "id": "e343c707-c711-40ef-a764-031a0c83f484",
   "metadata": {},
   "outputs": [
    {
     "name": "stdout",
     "output_type": "stream",
     "text": [
      "Final Training Accuracy: 0.4981\n",
      "Final Validation (Test) Accuracy: 0.4368\n"
     ]
    }
   ],
   "source": [
    "# To print the final training accuracy\n",
    "final_train_accuracy = history.history['categorical_accuracy'][-1]\n",
    "print(f\"Final Training Accuracy: {final_train_accuracy:.4f}\")\n",
    "\n",
    "# To print the final validation (test) accuracy\n",
    "final_val_accuracy = history.history['val_categorical_accuracy'][-1]\n",
    "print(f\"Final Validation (Test) Accuracy: {final_val_accuracy:.4f}\")\n"
   ]
  },
  {
   "cell_type": "code",
   "execution_count": null,
   "id": "2f293adf-6271-4292-84af-d72f6fb9845d",
   "metadata": {},
   "outputs": [],
   "source": []
  }
 ],
 "metadata": {
  "kernelspec": {
   "display_name": "Python 3 (ipykernel)",
   "language": "python",
   "name": "python3"
  },
  "language_info": {
   "codemirror_mode": {
    "name": "ipython",
    "version": 3
   },
   "file_extension": ".py",
   "mimetype": "text/x-python",
   "name": "python",
   "nbconvert_exporter": "python",
   "pygments_lexer": "ipython3",
   "version": "3.11.4"
  }
 },
 "nbformat": 4,
 "nbformat_minor": 5
}
