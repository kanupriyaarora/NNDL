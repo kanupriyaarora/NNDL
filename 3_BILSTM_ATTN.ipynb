{
 "cells": [
  {
   "cell_type": "code",
   "execution_count": 2,
   "id": "2162342e-0641-4c3e-aeba-302fea4c124a",
   "metadata": {},
   "outputs": [
    {
     "name": "stderr",
     "output_type": "stream",
     "text": [
      "[nltk_data] Downloading package punkt to\n",
      "[nltk_data]     /home/FYP/nipun001/nltk_data...\n",
      "[nltk_data]   Package punkt is already up-to-date!\n",
      "[nltk_data] Downloading package wordnet to\n",
      "[nltk_data]     /home/FYP/nipun001/nltk_data...\n",
      "[nltk_data]   Package wordnet is already up-to-date!\n",
      "[nltk_data] Downloading package stopwords to\n",
      "[nltk_data]     /home/FYP/nipun001/nltk_data...\n",
      "[nltk_data]   Package stopwords is already up-to-date!\n"
     ]
    }
   ],
   "source": [
    "# Standard library imports\n",
    "import datetime\n",
    "import os\n",
    "import re\n",
    "import sys\n",
    "import time\n",
    "\n",
    "# Third-party library imports for data handling and processing\n",
    "import emoji\n",
    "import numpy as np\n",
    "import pandas as pd\n",
    "import matplotlib.pyplot as plt\n",
    "from sklearn.model_selection import train_test_split\n",
    "from sklearn.preprocessing import LabelEncoder\n",
    "\n",
    "# NLTK for natural language processing tasks\n",
    "import nltk\n",
    "from nltk.corpus import stopwords \n",
    "from nltk.tokenize import word_tokenize\n",
    "nltk.download('punkt')  # Tokenizer for word segmentation\n",
    "nltk.download('wordnet')  # Lexical database for the English language\n",
    "nltk.download('stopwords')  # Stopwords to filter out in preprocessing\n",
    "\n",
    "# TensorFlow and Keras for building and training the neural network model\n",
    "import tensorflow as tf\n",
    "from tensorflow.keras.layers import Bidirectional, LSTM\n",
    "\n",
    "from keras.models import Sequential, load_model, save_model, Model\n",
    "from keras.layers import (Dense, Dropout, Activation, Embedding, Flatten,\n",
    "                          LSTM, Bidirectional, SpatialDropout1D, Conv1D, MaxPooling1D)\n",
    "from keras.preprocessing.text import text_to_word_sequence, Tokenizer\n",
    "from keras.preprocessing.sequence import pad_sequences\n",
    "from keras.callbacks import ModelCheckpoint\n",
    "from tensorflow.keras.callbacks import EarlyStopping\n",
    "import keras\n",
    "from keras.models import Model\n",
    "from keras.optimizers import Adam\n",
    "from keras.layers import Attention, Add\n",
    "from keras.optimizers import Adam\n",
    "import keras\n",
    "from keras.models import Sequential\n",
    "from keras.layers import Input,Embedding, Dropout, Reshape, MaxPooling2D, Flatten, Dense, Add\n",
    "from keras.optimizers import Adam\n",
    "from tensorflow.keras import layers\n",
    "\n",
    "# Matplotlib for plotting\n",
    "from matplotlib import pyplot\n"
   ]
  },
  {
   "cell_type": "code",
   "execution_count": 3,
   "id": "4396484f-da81-428c-8f77-aaecd96fe53f",
   "metadata": {},
   "outputs": [
    {
     "name": "stderr",
     "output_type": "stream",
     "text": [
      "[nltk_data] Downloading package stopwords to\n",
      "[nltk_data]     /home/FYP/nipun001/nltk_data...\n",
      "[nltk_data]   Package stopwords is already up-to-date!\n"
     ]
    }
   ],
   "source": [
    "import nltk\n",
    "# Downloading the stopwords collection from NLTK to filter out in our text processing\n",
    "nltk.download('stopwords')\n",
    "\n",
    "# Setting the maximum number of words in each sequence for our model\n",
    "MAX_SEQUENCE_LENGTH = 20\n",
    "# Defining the size of the embedding vectors\n",
    "EMBEDDING_DIM = 50\n",
    "\n",
    "# Importing the stopwords from NLTK to remove common words that usually don't carry much meaning\n",
    "from nltk.corpus import stopwords\n",
    "stop_words = set(stopwords.words('english')) \n",
    "# Creating a new set of stop words if we need to add more words to the default NLTK list\n",
    "new_stop_words = set(stop_words)\n",
    "\n",
    "import pandas as pd\n",
    "\n",
    "# Reading the preprocessed data from a CSV file into a DataFrame\n",
    "dataFrame = pd.read_csv('Preprocessed Data.csv', encoding='utf-8')\n",
    "\n",
    "# Extracting the text column (assuming it's the fourth column) as our input data (features)\n",
    "x = dataFrame.values[:, 3]\n",
    "# Extracting the target/output column (assuming it's the second column) for our labels\n",
    "y = dataFrame.values[:, 1]\n"
   ]
  },
  {
   "cell_type": "code",
   "execution_count": 4,
   "id": "aaf56280-9212-44a9-8437-83b3bde27ab3",
   "metadata": {},
   "outputs": [
    {
     "data": {
      "text/plain": [
       "(array(['anger', 'anger', 'anger', ..., 'love', 'joy', 'love'],\n",
       "       dtype=object),\n",
       " array([0, 1, 2, ..., 43957, 43958, 43959], dtype=object))"
      ]
     },
     "execution_count": 4,
     "metadata": {},
     "output_type": "execute_result"
    }
   ],
   "source": [
    "x,y"
   ]
  },
  {
   "cell_type": "code",
   "execution_count": 5,
   "id": "314a033b-52ac-457c-9185-87c182a4bcb9",
   "metadata": {},
   "outputs": [
    {
     "data": {
      "text/html": [
       "<div>\n",
       "<style scoped>\n",
       "    .dataframe tbody tr th:only-of-type {\n",
       "        vertical-align: middle;\n",
       "    }\n",
       "\n",
       "    .dataframe tbody tr th {\n",
       "        vertical-align: top;\n",
       "    }\n",
       "\n",
       "    .dataframe thead th {\n",
       "        text-align: right;\n",
       "    }\n",
       "</style>\n",
       "<table border=\"1\" class=\"dataframe\">\n",
       "  <thead>\n",
       "    <tr style=\"text-align: right;\">\n",
       "      <th></th>\n",
       "      <th>Unnamed: 0</th>\n",
       "      <th>index</th>\n",
       "      <th>tweet</th>\n",
       "      <th>tweettype</th>\n",
       "      <th>tweettype2</th>\n",
       "      <th>charCount</th>\n",
       "      <th>wordCount</th>\n",
       "      <th>sentenceCount</th>\n",
       "      <th>capCharCount</th>\n",
       "      <th>capWordCount</th>\n",
       "      <th>...</th>\n",
       "      <th>\\ count</th>\n",
       "      <th>] count</th>\n",
       "      <th>^ count</th>\n",
       "      <th>_ count</th>\n",
       "      <th>` count</th>\n",
       "      <th>{ count</th>\n",
       "      <th>| count</th>\n",
       "      <th>} count</th>\n",
       "      <th>~ count</th>\n",
       "      <th>lemmatizedText</th>\n",
       "    </tr>\n",
       "  </thead>\n",
       "  <tbody>\n",
       "    <tr>\n",
       "      <th>0</th>\n",
       "      <td>0</td>\n",
       "      <td>0</td>\n",
       "      <td>@ZubairSabirPTI  pls dont insult the word 'Molna'</td>\n",
       "      <td>anger</td>\n",
       "      <td>negative</td>\n",
       "      <td>49</td>\n",
       "      <td>7</td>\n",
       "      <td>1</td>\n",
       "      <td>6</td>\n",
       "      <td>0</td>\n",
       "      <td>...</td>\n",
       "      <td>0.0</td>\n",
       "      <td>0.0</td>\n",
       "      <td>0.0</td>\n",
       "      <td>0.0</td>\n",
       "      <td>0.0</td>\n",
       "      <td>0.0</td>\n",
       "      <td>0.0</td>\n",
       "      <td>0.0</td>\n",
       "      <td>0.0</td>\n",
       "      <td>pls dont insult word</td>\n",
       "    </tr>\n",
       "    <tr>\n",
       "      <th>1</th>\n",
       "      <td>1</td>\n",
       "      <td>1</td>\n",
       "      <td>@ArcticFantasy I would have almost took offens...</td>\n",
       "      <td>anger</td>\n",
       "      <td>negative</td>\n",
       "      <td>81</td>\n",
       "      <td>14</td>\n",
       "      <td>1</td>\n",
       "      <td>4</td>\n",
       "      <td>2</td>\n",
       "      <td>...</td>\n",
       "      <td>0.0</td>\n",
       "      <td>0.0</td>\n",
       "      <td>0.0</td>\n",
       "      <td>0.0</td>\n",
       "      <td>0.0</td>\n",
       "      <td>0.0</td>\n",
       "      <td>0.0</td>\n",
       "      <td>0.0</td>\n",
       "      <td>0.0</td>\n",
       "      <td>would almost take offense actually snap</td>\n",
       "    </tr>\n",
       "    <tr>\n",
       "      <th>2</th>\n",
       "      <td>2</td>\n",
       "      <td>2</td>\n",
       "      <td>@IllinoisLoyalty that Rutgers game was an abom...</td>\n",
       "      <td>anger</td>\n",
       "      <td>negative</td>\n",
       "      <td>114</td>\n",
       "      <td>20</td>\n",
       "      <td>3</td>\n",
       "      <td>6</td>\n",
       "      <td>0</td>\n",
       "      <td>...</td>\n",
       "      <td>0.0</td>\n",
       "      <td>0.0</td>\n",
       "      <td>0.0</td>\n",
       "      <td>0.0</td>\n",
       "      <td>0.0</td>\n",
       "      <td>0.0</td>\n",
       "      <td>0.0</td>\n",
       "      <td>0.0</td>\n",
       "      <td>0.0</td>\n",
       "      <td>rutgers game abomination affront god man must ...</td>\n",
       "    </tr>\n",
       "    <tr>\n",
       "      <th>3</th>\n",
       "      <td>3</td>\n",
       "      <td>3</td>\n",
       "      <td>@CozanGaming that's what lisa asked before she...</td>\n",
       "      <td>anger</td>\n",
       "      <td>negative</td>\n",
       "      <td>90</td>\n",
       "      <td>16</td>\n",
       "      <td>2</td>\n",
       "      <td>3</td>\n",
       "      <td>1</td>\n",
       "      <td>...</td>\n",
       "      <td>0.0</td>\n",
       "      <td>0.0</td>\n",
       "      <td>0.0</td>\n",
       "      <td>0.0</td>\n",
       "      <td>0.0</td>\n",
       "      <td>0.0</td>\n",
       "      <td>0.0</td>\n",
       "      <td>0.0</td>\n",
       "      <td>0.0</td>\n",
       "      <td>lisa ask start rag call heh</td>\n",
       "    </tr>\n",
       "    <tr>\n",
       "      <th>4</th>\n",
       "      <td>4</td>\n",
       "      <td>4</td>\n",
       "      <td>Sometimes I get mad over something so minuscul...</td>\n",
       "      <td>anger</td>\n",
       "      <td>negative</td>\n",
       "      <td>133</td>\n",
       "      <td>25</td>\n",
       "      <td>1</td>\n",
       "      <td>3</td>\n",
       "      <td>2</td>\n",
       "      <td>...</td>\n",
       "      <td>0.0</td>\n",
       "      <td>0.0</td>\n",
       "      <td>0.0</td>\n",
       "      <td>0.0</td>\n",
       "      <td>0.0</td>\n",
       "      <td>0.0</td>\n",
       "      <td>0.0</td>\n",
       "      <td>0.0</td>\n",
       "      <td>0.0</td>\n",
       "      <td>sometimes get mad something minuscule try ruin...</td>\n",
       "    </tr>\n",
       "  </tbody>\n",
       "</table>\n",
       "<p>5 rows × 50 columns</p>\n",
       "</div>"
      ],
      "text/plain": [
       "   Unnamed: 0  index                                              tweet  \\\n",
       "0           0      0  @ZubairSabirPTI  pls dont insult the word 'Molna'   \n",
       "1           1      1  @ArcticFantasy I would have almost took offens...   \n",
       "2           2      2  @IllinoisLoyalty that Rutgers game was an abom...   \n",
       "3           3      3  @CozanGaming that's what lisa asked before she...   \n",
       "4           4      4  Sometimes I get mad over something so minuscul...   \n",
       "\n",
       "  tweettype tweettype2  charCount  wordCount  sentenceCount  capCharCount  \\\n",
       "0     anger   negative         49          7              1             6   \n",
       "1     anger   negative         81         14              1             4   \n",
       "2     anger   negative        114         20              3             6   \n",
       "3     anger   negative         90         16              2             3   \n",
       "4     anger   negative        133         25              1             3   \n",
       "\n",
       "   capWordCount  ...  \\ count  ] count  ^ count  _ count  ` count  { count  \\\n",
       "0             0  ...      0.0      0.0      0.0      0.0      0.0      0.0   \n",
       "1             2  ...      0.0      0.0      0.0      0.0      0.0      0.0   \n",
       "2             0  ...      0.0      0.0      0.0      0.0      0.0      0.0   \n",
       "3             1  ...      0.0      0.0      0.0      0.0      0.0      0.0   \n",
       "4             2  ...      0.0      0.0      0.0      0.0      0.0      0.0   \n",
       "\n",
       "  | count  } count  ~ count                                     lemmatizedText  \n",
       "0     0.0      0.0      0.0                               pls dont insult word  \n",
       "1     0.0      0.0      0.0            would almost take offense actually snap  \n",
       "2     0.0      0.0      0.0  rutgers game abomination affront god man must ...  \n",
       "3     0.0      0.0      0.0                        lisa ask start rag call heh  \n",
       "4     0.0      0.0      0.0  sometimes get mad something minuscule try ruin...  \n",
       "\n",
       "[5 rows x 50 columns]"
      ]
     },
     "execution_count": 5,
     "metadata": {},
     "output_type": "execute_result"
    }
   ],
   "source": [
    "dataFrame.head()"
   ]
  },
  {
   "cell_type": "code",
   "execution_count": 6,
   "id": "3f7b8a1c-2a2c-4b2c-a126-71bf282cee74",
   "metadata": {},
   "outputs": [
    {
     "data": {
      "text/plain": [
       "Index(['Unnamed: 0', 'index', 'tweet', 'tweettype', 'tweettype2', 'charCount',\n",
       "       'wordCount', 'sentenceCount', 'capCharCount', 'capWordCount',\n",
       "       'quotedWordCount', 'stopwordCount', 'uniqueWordCount', 'hashCount',\n",
       "       'mentionCount', 'avgWordLen', 'modTweet', '! count', '\" count',\n",
       "       '# count', '$ count', '% count', '& count', '' count', '( count',\n",
       "       ') count', '* count', '+ count', ', count', '- count', '. count',\n",
       "       '/ count', ': count', '; count', '< count', '= count', '> count',\n",
       "       '? count', '@ count', '[ count', '\\ count', '] count', '^ count',\n",
       "       '_ count', '` count', '{ count', '| count', '} count', '~ count',\n",
       "       'lemmatizedText'],\n",
       "      dtype='object')"
      ]
     },
     "execution_count": 6,
     "metadata": {},
     "output_type": "execute_result"
    }
   ],
   "source": [
    "dataFrame.columns"
   ]
  },
  {
   "cell_type": "code",
   "execution_count": 7,
   "id": "69f9ce73-9aab-469c-8fe7-c4fa75af303f",
   "metadata": {},
   "outputs": [],
   "source": [
    "x_data=list(dataFrame['lemmatizedText'])\n",
    "y_data=list(dataFrame['tweettype'])"
   ]
  },
  {
   "cell_type": "code",
   "execution_count": 8,
   "id": "070da87e-c214-4713-a00e-593bb26c9f80",
   "metadata": {},
   "outputs": [
    {
     "data": {
      "text/plain": [
       "(['pls dont insult word',\n",
       "  'would almost take offense actually snap',\n",
       "  'rutgers game abomination affront god man must never speak',\n",
       "  'lisa ask start rag call heh',\n",
       "  'sometimes get mad something minuscule try ruin somebody life like lose job like get federal prison',\n",
       "  'sometimes get mad something minuscule try ruin somebody life like lose job like get federal prison anger',\n",
       "  'think canaday amp must actually work like amp brady havent get snap chat video today',\n",
       "  'eye dilate hate world right rage thousand fiery dragon need drink',\n",
       "  'one choose clp member mp seat people dole mate elect candidate fume',\n",
       "  'one choose clp member mp seat people dole mate elect candidate'],\n",
       " ['anger',\n",
       "  'anger',\n",
       "  'anger',\n",
       "  'anger',\n",
       "  'anger',\n",
       "  'anger',\n",
       "  'anger',\n",
       "  'anger',\n",
       "  'anger',\n",
       "  'anger'])"
      ]
     },
     "execution_count": 8,
     "metadata": {},
     "output_type": "execute_result"
    }
   ],
   "source": [
    "x_data[:10],y_data[:10]"
   ]
  },
  {
   "cell_type": "markdown",
   "id": "65d9ae59-8d25-45e6-bed2-589d516a7916",
   "metadata": {},
   "source": [
    "#### Preprocessing Pipeline\n",
    "The provided code is a preprocessing pipeline for an emotion recognition task from text data. It starts by encoding emotion labels into numerical classes and one-hot encoding them for model training. It then cleans the tweets by lowercasing, removing URLs, stock symbols, usernames, and non-letter characters. After that, it lemmatizes the text, stripping words down to their base forms while also removing stopwords. The processed text is tokenized into sequences, which are then padded to a uniform length to prepare for input into a machine learning model. Finally, the data is split into training and test sets, ready for the next steps in building an emotion classification model."
   ]
  },
  {
   "cell_type": "code",
   "execution_count": 9,
   "id": "70793f1f-dc1b-458e-bb84-687f574cd869",
   "metadata": {},
   "outputs": [],
   "source": [
    "import tensorflow as tf\n",
    "import re\n",
    "# Added in to avoid formatting error\n",
    "labels = np.array(dataFrame['tweettype'])\n",
    "y = []\n",
    "for i in range(len(labels)):\n",
    "    if labels[i] == 'sadness':\n",
    "        y.append(0)\n",
    "    elif labels[i] == 'neutral':\n",
    "        y.append(1)\n",
    "    elif labels[i] == 'joy':\n",
    "        y.append(2)\n",
    "    elif labels[i] == 'love':\n",
    "        y.append(3)\n",
    "    elif labels[i] == 'enthusiasm':\n",
    "        y.append(4)\n",
    "    elif labels[i] == 'anger':\n",
    "        y.append(5)\n",
    "    elif labels[i] == 'surprise':\n",
    "        y.append(6)\n",
    "    elif labels[i] == 'relief':\n",
    "        y.append(7)\n",
    "    elif labels[i] == 'fear':\n",
    "        y.append(8)\n",
    "y = np.array(y)\n",
    "labels = tf.keras.utils.to_categorical(y, 9, dtype=\"float32\")\n",
    "del y\n",
    "\n",
    "\n",
    "def featureEngineering(tweet):\n",
    "    # Lower case tweet\n",
    "    tweetMod = tweet.lower()\n",
    "    # Replace URLs with a space in the message\n",
    "    tweetMod = re.sub('https?:\\/\\/[a-zA-Z0-9@:%._\\/+~#=?&;-]*', ' ', tweetMod)\n",
    "    # Replace ticker symbols with a space. The ticker symbols are any stock symbol that starts with $.\n",
    "    tweetMod = re.sub('\\$[a-zA-Z0-9]*', ' ', tweetMod)\n",
    "    # Replace StockTwits usernames with a space. The usernames are any word that starts with @.\n",
    "    tweetMod = re.sub('\\@[a-zA-Z0-9]*', ' ', tweetMod)\n",
    "    # Replace everything not a letter or apostrophe with a space\n",
    "    tweetMod = re.sub('[^a-zA-Z\\']', ' ', tweetMod)\n",
    "    # Remove single letter words\n",
    "    tweetMod = ' '.join([w for w in tweetMod.split() if len(w) > 1])\n",
    "\n",
    "    return tweetMod\n",
    "\n",
    "tweetData=dataFrame\n",
    "\n",
    "# Process for all tweets\n",
    "tweetData['modTweet'] = [featureEngineering(tweet) for tweet in tweetData['tweet']]\n",
    "\n",
    "def lemmatizeTweet(tweet):\n",
    "  words = [word for word in word_tokenize(tweet) if (word.isalpha()==1)]\n",
    "  # Remove stop words\n",
    "  stop = set(stopwords.words('english'))\n",
    "  words = [word for word in words if (word not in stop)]\n",
    "  # Lemmatize words (first noun, then verb)\n",
    "  wnl = nltk.stem.WordNetLemmatizer()\n",
    "  lemmatized = [wnl.lemmatize(wnl.lemmatize(word, 'n'), 'v') for word in words]\n",
    "  return \" \".join(lemmatized)\n",
    "\n",
    "tweetData['lemmatizedText'] = tweetData[\"modTweet\"].apply(lambda x:lemmatizeTweet(x))\n",
    "\n",
    "tokenizer = Tokenizer(num_words=27608, split=' ')\n",
    "tokenizer.fit_on_texts(tweetData['lemmatizedText'].values)\n",
    "X = tokenizer.texts_to_sequences(tweetData['lemmatizedText'].values)\n",
    "X = pad_sequences(X, padding='post')\n",
    "\n"
   ]
  },
  {
   "cell_type": "code",
   "execution_count": 10,
   "id": "57907623-5dc4-4087-b078-880aeff91ff7",
   "metadata": {},
   "outputs": [
    {
     "data": {
      "text/plain": [
       "array([[ 1487,    93,  1706, ...,     0,     0,     0],\n",
       "       [   44,   242,    45, ...,     0,     0,     0],\n",
       "       [11889,   192,  8085, ...,     0,     0,     0],\n",
       "       ...,\n",
       "       [   16,    27,     3, ...,     0,     0,     0],\n",
       "       [ 2611,   275,    85, ...,     0,     0,     0],\n",
       "       [ 4886,   456,  2760, ...,     0,     0,     0]], dtype=int32)"
      ]
     },
     "execution_count": 10,
     "metadata": {},
     "output_type": "execute_result"
    }
   ],
   "source": [
    "X"
   ]
  },
  {
   "cell_type": "code",
   "execution_count": 11,
   "id": "2dd51c41-f9e8-4ed0-b36e-78106341b3b6",
   "metadata": {},
   "outputs": [],
   "source": [
    "X_train, X_test, Y_train, Y_test = train_test_split(X, labels, test_size=0.2, random_state=42)"
   ]
  },
  {
   "cell_type": "code",
   "execution_count": 12,
   "id": "60343990-b151-441d-afb8-08ca8e9f3512",
   "metadata": {},
   "outputs": [
    {
     "name": "stdout",
     "output_type": "stream",
     "text": [
      "Loading Glove Vectors ...\n",
      "Loaded GloVe Vectors Successfully\n"
     ]
    }
   ],
   "source": [
    "\n",
    "#Loading Pre-trained GloVe Word Embeddings\n",
    "#These word embeddings will provide a dense representation of words with semantic meanings, which can significantly improve the performance of machine learning models on NLP tasks.\n",
    "print(\"Loading Glove Vectors ...\")\n",
    "embeddings_index = {}\n",
    "word_index = tokenizer.word_index\n",
    "len(word_index)\n",
    "f = open(os.path.join('', 'glove.6B.50d.txt'),'r',encoding=\"utf-8\")\n",
    "for line in f:\n",
    "    values = line.split()\n",
    "    word = values[0]\n",
    "    coefs = np.asarray(values[1:], dtype='float32')\n",
    "    embeddings_index[word] = coefs\n",
    "f.close()\n",
    "\n",
    "print('Loaded GloVe Vectors Successfully')\n"
   ]
  },
  {
   "cell_type": "code",
   "execution_count": 13,
   "id": "a3ad9af6-e81a-4af6-8f73-a3cd10ba3de4",
   "metadata": {},
   "outputs": [
    {
     "name": "stdout",
     "output_type": "stream",
     "text": [
      "Embedding Matrix Generated :  (27614, 50)\n"
     ]
    }
   ],
   "source": [
    "#Creating the Embedding Matrix and Layer for the Model\n",
    "\n",
    "embedding_matrix = np.zeros((len(word_index) + 1, EMBEDDING_DIM))\n",
    "for word, i in word_index.items():\n",
    "    embedding_vector = embeddings_index.get(word)\n",
    "    if embedding_vector is not None:\n",
    "        # words not found in embedding index will be all-zeros.\n",
    "        embedding_matrix[i] = embedding_vector\n",
    "\n",
    "print(\"Embedding Matrix Generated : \",embedding_matrix.shape)\n",
    "\n",
    "\n",
    "\n",
    "embedding_layer = Embedding(len(word_index) + 1,EMBEDDING_DIM, weights=[embedding_matrix],input_length=MAX_SEQUENCE_LENGTH,trainable=False)\n",
    "\n",
    "\n"
   ]
  },
  {
   "cell_type": "code",
   "execution_count": 14,
   "id": "d5f881dd-b3c0-4069-9d6e-115dff5bc373",
   "metadata": {},
   "outputs": [
    {
     "name": "stdout",
     "output_type": "stream",
     "text": [
      "Loaded 400000 word vectors.\n"
     ]
    }
   ],
   "source": [
    "#Populating the GloVe Embeddings Dictionary\n",
    "\n",
    "\n",
    "embeddings_index = {}\n",
    "word_index = tokenizer.word_index\n",
    "len(word_index)\n",
    "f = open('glove.6B.50d.txt', 'r', encoding=\"utf-8\")\n",
    "for line in f:\n",
    "    values = line.split()\n",
    "    word = values[0]\n",
    "    coefs = np.asarray(values[1:], dtype='float32')\n",
    "    embeddings_index[word] = coefs\n",
    "f.close()\n",
    "print('Loaded %s word vectors.' % len(embeddings_index))\n"
   ]
  },
  {
   "cell_type": "code",
   "execution_count": 15,
   "id": "aba32f85-17d1-481c-beb3-8aeb9c487647",
   "metadata": {},
   "outputs": [],
   "source": [
    "#Constructing the Embedding Matrix with GloVe Vectors\n",
    "\n",
    "embedding_dim = 50  \n",
    "\n",
    "embedding_matrix = np.zeros((len(word_index) + 1, embedding_dim))\n",
    "\n",
    "for word, i in word_index.items():\n",
    "    embedding_vector = embeddings_index.get(word)\n",
    "    if embedding_vector is not None:\n",
    "        embedding_matrix[i] = embedding_vector\n"
   ]
  },
  {
   "cell_type": "code",
   "execution_count": 16,
   "id": "605eac4c-1f9e-4abf-9714-157f31233860",
   "metadata": {},
   "outputs": [],
   "source": [
    "#Setting Up Early Stopping Callback\n",
    "#This technique helps prevent overfitting by stopping the training when the model performance no longer improves on a held-out validation set.\n",
    "early_stopping = EarlyStopping(monitor='val_loss', patience=3, verbose=1, restore_best_weights=True)\n",
    "callbacks_list = [early_stopping]"
   ]
  },
  {
   "cell_type": "markdown",
   "id": "28753d0c-b82f-427a-a290-74c756bd1595",
   "metadata": {},
   "source": [
    "### Building and Training the Text Classification Model (LSTM + CNN)\n",
    "This model is a hybrid neural network designed for text emotion classification that combines convolutional layers with bidirectional LSTM layers. The convolutional layers extract local patterns within the text, while the bidirectional LSTMs capture long-range dependencies in the data. The model uses pre-trained GloVe word embeddings to understand word semantics and employs attention mechanisms to focus on relevant parts of the text sequence. Dropout layers are included to mitigate overfitting, and the model's output is a probability distribution across different emotion classes, obtained through a softmax activation function. The architecture is designed to leverage both the local features of the text and its sequential nature, making it suitable for text emotion recognition."
   ]
  },
  {
   "cell_type": "code",
   "execution_count": 17,
   "id": "ecdfb246-3eec-42a2-8d5d-7e824302c4c1",
   "metadata": {},
   "outputs": [
    {
     "name": "stderr",
     "output_type": "stream",
     "text": [
      "2023-11-09 13:07:08.759446: I tensorflow/core/common_runtime/gpu/gpu_device.cc:1886] Created device /job:localhost/replica:0/task:0/device:GPU:0 with 30954 MB memory:  -> device: 0, name: Tesla V100-PCIE-32GB, pci bus id: 0000:86:00.0, compute capability: 7.0\n",
      "WARNING:absl:`lr` is deprecated in Keras optimizer, please use `learning_rate` or use the legacy optimizer, e.g.,tf.keras.optimizers.legacy.Adam.\n"
     ]
    },
    {
     "name": "stdout",
     "output_type": "stream",
     "text": [
      "Model: \"model\"\n",
      "__________________________________________________________________________________________________\n",
      " Layer (type)                Output Shape                 Param #   Connected to                  \n",
      "==================================================================================================\n",
      " input_1 (InputLayer)        [(None, 28)]                 0         []                            \n",
      "                                                                                                  \n",
      " embedding (Embedding)       (None, 28, 50)               1380700   ['input_1[0][0]']             \n",
      "                                                                                                  \n",
      " bidirectional (Bidirection  (None, 28, 256)              183296    ['embedding[0][0]']           \n",
      " al)                                                                                              \n",
      "                                                                                                  \n",
      " attention (Attention)       (None, 28, 256)              0         ['bidirectional[0][0]',       \n",
      "                                                                     'bidirectional[0][0]']       \n",
      "                                                                                                  \n",
      " add (Add)                   (None, 28, 256)              0         ['bidirectional[0][0]',       \n",
      "                                                                     'attention[0][0]']           \n",
      "                                                                                                  \n",
      " dropout (Dropout)           (None, 28, 256)              0         ['add[0][0]']                 \n",
      "                                                                                                  \n",
      " bidirectional_1 (Bidirecti  (None, 28, 384)              689664    ['dropout[0][0]']             \n",
      " onal)                                                                                            \n",
      "                                                                                                  \n",
      " attention_1 (Attention)     (None, 28, 384)              0         ['bidirectional_1[0][0]',     \n",
      "                                                                     'bidirectional_1[0][0]']     \n",
      "                                                                                                  \n",
      " add_1 (Add)                 (None, 28, 384)              0         ['bidirectional_1[0][0]',     \n",
      "                                                                     'attention_1[0][0]']         \n",
      "                                                                                                  \n",
      " dropout_1 (Dropout)         (None, 28, 384)              0         ['add_1[0][0]']               \n",
      "                                                                                                  \n",
      " bidirectional_2 (Bidirecti  (None, 28, 512)              1312768   ['dropout_1[0][0]']           \n",
      " onal)                                                                                            \n",
      "                                                                                                  \n",
      " attention_2 (Attention)     (None, 28, 512)              0         ['bidirectional_2[0][0]',     \n",
      "                                                                     'bidirectional_2[0][0]']     \n",
      "                                                                                                  \n",
      " add_2 (Add)                 (None, 28, 512)              0         ['bidirectional_2[0][0]',     \n",
      "                                                                     'attention_2[0][0]']         \n",
      "                                                                                                  \n",
      " dropout_2 (Dropout)         (None, 28, 512)              0         ['add_2[0][0]']               \n",
      "                                                                                                  \n",
      " flatten (Flatten)           (None, 14336)                0         ['dropout_2[0][0]']           \n",
      "                                                                                                  \n",
      " dense (Dense)               (None, 9)                    129033    ['flatten[0][0]']             \n",
      "                                                                                                  \n",
      "==================================================================================================\n",
      "Total params: 3695461 (14.10 MB)\n",
      "Trainable params: 2314761 (8.83 MB)\n",
      "Non-trainable params: 1380700 (5.27 MB)\n",
      "__________________________________________________________________________________________________\n",
      "Epoch 1/50\n"
     ]
    },
    {
     "name": "stderr",
     "output_type": "stream",
     "text": [
      "2023-11-09 13:07:16.280463: W tensorflow/core/grappler/costs/op_level_cost_estimator.cc:693] Error in PredictCost() for the op: op: \"Softmax\" attr { key: \"T\" value { type: DT_FLOAT } } inputs { dtype: DT_FLOAT shape { unknown_rank: true } } device { type: \"GPU\" vendor: \"NVIDIA\" model: \"Tesla V100-PCIE-32GB\" frequency: 1380 num_cores: 80 environment { key: \"architecture\" value: \"7.0\" } environment { key: \"cuda\" value: \"11080\" } environment { key: \"cudnn\" value: \"8600\" } num_registers: 65536 l1_cache_size: 24576 l2_cache_size: 6291456 shared_memory_size_per_multiprocessor: 98304 memory_size: 32458539008 bandwidth: 898048000 } outputs { dtype: DT_FLOAT shape { unknown_rank: true } }\n",
      "2023-11-09 13:07:16.281182: W tensorflow/core/grappler/costs/op_level_cost_estimator.cc:693] Error in PredictCost() for the op: op: \"Softmax\" attr { key: \"T\" value { type: DT_FLOAT } } inputs { dtype: DT_FLOAT shape { unknown_rank: true } } device { type: \"GPU\" vendor: \"NVIDIA\" model: \"Tesla V100-PCIE-32GB\" frequency: 1380 num_cores: 80 environment { key: \"architecture\" value: \"7.0\" } environment { key: \"cuda\" value: \"11080\" } environment { key: \"cudnn\" value: \"8600\" } num_registers: 65536 l1_cache_size: 24576 l2_cache_size: 6291456 shared_memory_size_per_multiprocessor: 98304 memory_size: 32458539008 bandwidth: 898048000 } outputs { dtype: DT_FLOAT shape { unknown_rank: true } }\n",
      "2023-11-09 13:07:16.281696: W tensorflow/core/grappler/costs/op_level_cost_estimator.cc:693] Error in PredictCost() for the op: op: \"Softmax\" attr { key: \"T\" value { type: DT_FLOAT } } inputs { dtype: DT_FLOAT shape { unknown_rank: true } } device { type: \"GPU\" vendor: \"NVIDIA\" model: \"Tesla V100-PCIE-32GB\" frequency: 1380 num_cores: 80 environment { key: \"architecture\" value: \"7.0\" } environment { key: \"cuda\" value: \"11080\" } environment { key: \"cudnn\" value: \"8600\" } num_registers: 65536 l1_cache_size: 24576 l2_cache_size: 6291456 shared_memory_size_per_multiprocessor: 98304 memory_size: 32458539008 bandwidth: 898048000 } outputs { dtype: DT_FLOAT shape { unknown_rank: true } }\n",
      "2023-11-09 13:07:17.928831: I tensorflow/compiler/xla/stream_executor/cuda/cuda_dnn.cc:442] Loaded cuDNN version 8902\n",
      "2023-11-09 13:07:20.160406: I tensorflow/compiler/xla/service/service.cc:168] XLA service 0x2ab4867118e0 initialized for platform CUDA (this does not guarantee that XLA will be used). Devices:\n",
      "2023-11-09 13:07:20.160441: I tensorflow/compiler/xla/service/service.cc:176]   StreamExecutor device (0): Tesla V100-PCIE-32GB, Compute Capability 7.0\n",
      "2023-11-09 13:07:20.166076: I tensorflow/compiler/mlir/tensorflow/utils/dump_mlir_util.cc:269] disabling MLIR crash reproducer, set env var `MLIR_CRASH_REPRODUCER_DIRECTORY` to enable.\n",
      "2023-11-09 13:07:20.334646: I ./tensorflow/compiler/jit/device_compiler.h:186] Compiled cluster using XLA!  This line is logged at most once for the lifetime of the process.\n"
     ]
    },
    {
     "name": "stdout",
     "output_type": "stream",
     "text": [
      "69/69 [==============================] - ETA: 0s - loss: 1.8067 - categorical_accuracy: 0.3689"
     ]
    },
    {
     "name": "stderr",
     "output_type": "stream",
     "text": [
      "2023-11-09 13:07:26.459379: W tensorflow/core/grappler/costs/op_level_cost_estimator.cc:693] Error in PredictCost() for the op: op: \"Softmax\" attr { key: \"T\" value { type: DT_FLOAT } } inputs { dtype: DT_FLOAT shape { unknown_rank: true } } device { type: \"GPU\" vendor: \"NVIDIA\" model: \"Tesla V100-PCIE-32GB\" frequency: 1380 num_cores: 80 environment { key: \"architecture\" value: \"7.0\" } environment { key: \"cuda\" value: \"11080\" } environment { key: \"cudnn\" value: \"8600\" } num_registers: 65536 l1_cache_size: 24576 l2_cache_size: 6291456 shared_memory_size_per_multiprocessor: 98304 memory_size: 32458539008 bandwidth: 898048000 } outputs { dtype: DT_FLOAT shape { unknown_rank: true } }\n",
      "2023-11-09 13:07:26.459681: W tensorflow/core/grappler/costs/op_level_cost_estimator.cc:693] Error in PredictCost() for the op: op: \"Softmax\" attr { key: \"T\" value { type: DT_FLOAT } } inputs { dtype: DT_FLOAT shape { unknown_rank: true } } device { type: \"GPU\" vendor: \"NVIDIA\" model: \"Tesla V100-PCIE-32GB\" frequency: 1380 num_cores: 80 environment { key: \"architecture\" value: \"7.0\" } environment { key: \"cuda\" value: \"11080\" } environment { key: \"cudnn\" value: \"8600\" } num_registers: 65536 l1_cache_size: 24576 l2_cache_size: 6291456 shared_memory_size_per_multiprocessor: 98304 memory_size: 32458539008 bandwidth: 898048000 } outputs { dtype: DT_FLOAT shape { unknown_rank: true } }\n",
      "2023-11-09 13:07:26.459956: W tensorflow/core/grappler/costs/op_level_cost_estimator.cc:693] Error in PredictCost() for the op: op: \"Softmax\" attr { key: \"T\" value { type: DT_FLOAT } } inputs { dtype: DT_FLOAT shape { unknown_rank: true } } device { type: \"GPU\" vendor: \"NVIDIA\" model: \"Tesla V100-PCIE-32GB\" frequency: 1380 num_cores: 80 environment { key: \"architecture\" value: \"7.0\" } environment { key: \"cuda\" value: \"11080\" } environment { key: \"cudnn\" value: \"8600\" } num_registers: 65536 l1_cache_size: 24576 l2_cache_size: 6291456 shared_memory_size_per_multiprocessor: 98304 memory_size: 32458539008 bandwidth: 898048000 } outputs { dtype: DT_FLOAT shape { unknown_rank: true } }\n"
     ]
    },
    {
     "name": "stdout",
     "output_type": "stream",
     "text": [
      "69/69 [==============================] - 17s 71ms/step - loss: 1.8067 - categorical_accuracy: 0.3689 - val_loss: 1.6879 - val_categorical_accuracy: 0.4029\n",
      "Epoch 2/50\n",
      "69/69 [==============================] - 3s 41ms/step - loss: 1.6825 - categorical_accuracy: 0.4024 - val_loss: 1.6557 - val_categorical_accuracy: 0.4162\n",
      "Epoch 3/50\n",
      "69/69 [==============================] - 3s 41ms/step - loss: 1.6521 - categorical_accuracy: 0.4117 - val_loss: 1.6384 - val_categorical_accuracy: 0.4195\n",
      "Epoch 4/50\n",
      "69/69 [==============================] - 3s 41ms/step - loss: 1.6247 - categorical_accuracy: 0.4253 - val_loss: 1.6207 - val_categorical_accuracy: 0.4270\n",
      "Epoch 5/50\n",
      "69/69 [==============================] - 3s 41ms/step - loss: 1.6106 - categorical_accuracy: 0.4285 - val_loss: 1.6030 - val_categorical_accuracy: 0.4295\n",
      "Epoch 6/50\n",
      "69/69 [==============================] - 3s 41ms/step - loss: 1.5926 - categorical_accuracy: 0.4343 - val_loss: 1.6140 - val_categorical_accuracy: 0.4262\n",
      "Epoch 7/50\n",
      "69/69 [==============================] - 3s 41ms/step - loss: 1.5707 - categorical_accuracy: 0.4418 - val_loss: 1.5974 - val_categorical_accuracy: 0.4369\n",
      "Epoch 8/50\n",
      "69/69 [==============================] - 3s 41ms/step - loss: 1.5600 - categorical_accuracy: 0.4473 - val_loss: 1.5879 - val_categorical_accuracy: 0.4362\n",
      "Epoch 9/50\n",
      "69/69 [==============================] - 3s 41ms/step - loss: 1.5460 - categorical_accuracy: 0.4515 - val_loss: 1.5918 - val_categorical_accuracy: 0.4403\n",
      "Epoch 10/50\n",
      "69/69 [==============================] - 3s 41ms/step - loss: 1.5303 - categorical_accuracy: 0.4567 - val_loss: 1.5917 - val_categorical_accuracy: 0.4414\n",
      "Epoch 11/50\n",
      "69/69 [==============================] - ETA: 0s - loss: 1.5127 - categorical_accuracy: 0.4608Restoring model weights from the end of the best epoch: 8.\n",
      "69/69 [==============================] - 3s 41ms/step - loss: 1.5127 - categorical_accuracy: 0.4608 - val_loss: 1.5915 - val_categorical_accuracy: 0.4373\n",
      "Epoch 11: early stopping\n"
     ]
    }
   ],
   "source": [
    "\n",
    "# Clear any previous session\n",
    "keras.backend.clear_session()\n",
    "\n",
    "\n",
    "# Define the input layer\n",
    "input_layer = Input(shape=(X_train.shape[1],))  # Replace X_train.shape[1] with the actual length of your sequences\n",
    "\n",
    "# Embedding Layer\n",
    "embedding_layer = Embedding(input_dim=len(word_index) + 1,\n",
    "                            output_dim=embedding_dim,\n",
    "                            weights=[embedding_matrix],\n",
    "                            input_length=X_train.shape[1],\n",
    "                            trainable=False)(input_layer)\n",
    "\n",
    "# First BiLSTM Layer with Attention\n",
    "x = layers.Bidirectional(layers.LSTM(units=128, return_sequences=True))(embedding_layer)\n",
    "query_value_attention_seq = layers.Attention()([x, x])\n",
    "x = layers.Add()([x, query_value_attention_seq])\n",
    "x = layers.Dropout(0.4)(x)\n",
    "\n",
    "# Second BiLSTM Layer with Attention\n",
    "x = layers.Bidirectional(layers.LSTM(units=192, return_sequences=True))(x)\n",
    "query_value_attention_seq = layers.Attention()([x, x])\n",
    "x = layers.Add()([x, query_value_attention_seq])\n",
    "x = layers.Dropout(0.2)(x)\n",
    "\n",
    "# Third BiLSTM Layer with Attention\n",
    "x = layers.Bidirectional(layers.LSTM(units=256, return_sequences=True))(x)\n",
    "query_value_attention_seq = layers.Attention()([x, x])\n",
    "x = layers.Add()([x, query_value_attention_seq])\n",
    "x = layers.Dropout(0.5)(x)\n",
    "\n",
    "x = layers.Flatten()(x)\n",
    "\n",
    "# Dense Layer for Classification\n",
    "output = layers.Dense(9, activation='softmax')(x)\n",
    "\n",
    "\n",
    "# Final model assembly\n",
    "model = Model(inputs=input_layer, outputs=output)\n",
    "\n",
    "# Define the optimizer\n",
    "optimizer = Adam(lr=0.001)\n",
    "\n",
    "# Compile the model\n",
    "model.compile(loss='categorical_crossentropy', optimizer=optimizer, metrics=['categorical_accuracy'])\n",
    "\n",
    "# Print the model summary\n",
    "model.summary()\n",
    "\n",
    "# Note: Before training the model, ensure that X_train, Y_train, X_test, Y_test, embedding_matrix, word_index, and embedding_dim\n",
    "# are correctly defined, as these variables are necessary for the model to be configured and trained properly.\n",
    "\n",
    "# Train the model\n",
    "history = model.fit(X_train, Y_train, epochs=50, batch_size=512, validation_data=(X_test, Y_test), callbacks=callbacks_list)\n"
   ]
  },
  {
   "cell_type": "code",
   "execution_count": 18,
   "id": "35df9195-7ffb-4e9a-bcbd-7c07530e9cc4",
   "metadata": {},
   "outputs": [
    {
     "name": "stdout",
     "output_type": "stream",
     "text": [
      "INFO:tensorflow:Assets written to: models/3_BiLSTM_ATTN/assets\n"
     ]
    },
    {
     "name": "stderr",
     "output_type": "stream",
     "text": [
      "INFO:tensorflow:Assets written to: models/3_BiLSTM_ATTN/assets\n"
     ]
    }
   ],
   "source": [
    "model.save('models/3_BiLSTM_ATTN')"
   ]
  },
  {
   "cell_type": "code",
   "execution_count": 19,
   "id": "1dddb702-7047-452b-a4d1-9a3d3410e05a",
   "metadata": {},
   "outputs": [
    {
     "data": {
      "image/png": "[encoded data removed]",
      "text/plain": [
       "<Figure size 1400x500 with 2 Axes>"
      ]
     },
     "metadata": {},
     "output_type": "display_data"
    }
   ],
   "source": [
    "#plotting accuracy & loss\n",
    "plt.figure(figsize=(14, 5)) \n",
    "\n",
    "\n",
    "plt.subplot(1, 2, 1)\n",
    "plt.plot(history.history['categorical_accuracy'], label='Train')\n",
    "plt.plot(history.history['val_categorical_accuracy'], label='Test')\n",
    "plt.title('Model Accuracy')\n",
    "plt.ylabel('Accuracy')\n",
    "plt.xlabel('Epoch')\n",
    "plt.legend(loc='best')\n",
    "\n",
    "\n",
    "plt.subplot(1, 2, 2)\n",
    "plt.plot(history.history['loss'], label='Train')\n",
    "plt.plot(history.history['val_loss'], label='Test')\n",
    "plt.title('Model Loss')\n",
    "plt.ylabel('Cross-Entropy Loss')\n",
    "plt.xlabel('Epoch')\n",
    "plt.legend(loc='best')\n",
    "\n",
    "plt.tight_layout() \n",
    "plt.show()\n",
    "\n"
   ]
  },
  {
   "cell_type": "code",
   "execution_count": 21,
   "id": "e343c707-c711-40ef-a764-031a0c83f484",
   "metadata": {},
   "outputs": [
    {
     "name": "stdout",
     "output_type": "stream",
     "text": [
      "Best Training Accuracy: 0.4608\n",
      "Best Validation (Test) Accuracy: 0.4414\n"
     ]
    }
   ],
   "source": [
    "# To print the best training accuracy\n",
    "best_train_accuracy = max(history.history['categorical_accuracy'])\n",
    "print(f\"Best Training Accuracy: {best_train_accuracy:.4f}\")\n",
    "\n",
    "# To print the best validation (test) accuracy\n",
    "best_val_accuracy = max(history.history['val_categorical_accuracy'])\n",
    "print(f\"Best Validation (Test) Accuracy: {best_val_accuracy:.4f}\")\n",
    "\n"
   ]
  },
  {
   "cell_type": "code",
   "execution_count": null,
   "id": "9a636346-d5a5-4e8b-bee4-ef6c718abfe6",
   "metadata": {},
   "outputs": [],
   "source": []
  }
 ],
 "metadata": {
  "kernelspec": {
   "display_name": "Python 3 (ipykernel)",
   "language": "python",
   "name": "python3"
  },
  "language_info": {
   "codemirror_mode": {
    "name": "ipython",
    "version": 3
   },
   "file_extension": ".py",
   "mimetype": "text/x-python",
   "name": "python",
   "nbconvert_exporter": "python",
   "pygments_lexer": "ipython3",
   "version": "3.11.4"
  }
 },
 "nbformat": 4,
 "nbformat_minor": 5
}
